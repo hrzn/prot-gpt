{
 "cells": [
  {
   "attachments": {},
   "cell_type": "markdown",
   "metadata": {},
   "source": [
    "# Dataset prep"
   ]
  },
  {
   "cell_type": "code",
   "execution_count": 33,
   "metadata": {},
   "outputs": [],
   "source": [
    "%matplotlib inline\n",
    "\n",
    "from tqdm.notebook import tqdm\n",
    "import pickle\n",
    "import matplotlib.pyplot as plt\n",
    "import numpy as np\n",
    "\n",
    "# original source https://ftp.wwpdb.org/pub/pdb/derived_data/pdb_seqres.txt.gz\n",
    "SEQ_FILE = \"data/pdb_seqres.txt\""
   ]
  },
  {
   "cell_type": "code",
   "execution_count": 16,
   "metadata": {},
   "outputs": [],
   "source": [
    "with open(SEQ_FILE) as f:\n",
    "    lines = f.readlines()"
   ]
  },
  {
   "attachments": {},
   "cell_type": "markdown",
   "metadata": {},
   "source": [
    "At first, we'll try to keep `mol:protein` types, and only one of each name (the first one)"
   ]
  },
  {
   "cell_type": "code",
   "execution_count": 17,
   "metadata": {},
   "outputs": [
    {
     "data": {
      "application/vnd.jupyter.widget-view+json": {
       "model_id": "ee835a2f34ed4f5da541a086f8a92e6d",
       "version_major": 2,
       "version_minor": 0
      },
      "text/plain": [
       "  0%|          | 0/1542264 [00:00<?, ?it/s]"
      ]
     },
     "metadata": {},
     "output_type": "display_data"
    }
   ],
   "source": [
    "names = set()\n",
    "\n",
    "name_to_seq = dict()\n",
    "\n",
    "for l in tqdm(lines):\n",
    "    if l.startswith(\">\"):\n",
    "        keep = False\n",
    "        is_prot = \"mol:protein\" in l\n",
    "        if is_prot:\n",
    "            name = \" \".join(l.split()[3:])\n",
    "            if name not in names:\n",
    "                names.add(name)\n",
    "                keep = True\n",
    "    elif keep:\n",
    "        name_to_seq[name] = l.strip()"
   ]
  },
  {
   "cell_type": "code",
   "execution_count": 18,
   "metadata": {},
   "outputs": [
    {
     "data": {
      "text/plain": [
       "'MDEKRRAQHNEVERRRRDKINNWIVQLSKIIPDSSMESTKSGQSKGGILSKASDYIQELRQSNHR'"
      ]
     },
     "execution_count": 18,
     "metadata": {},
     "output_type": "execute_result"
    }
   ],
   "source": [
    "name_to_seq[\"PROTEIN (UPSTREAM STIMULATORY FACTOR)\"]"
   ]
  },
  {
   "cell_type": "code",
   "execution_count": 31,
   "metadata": {},
   "outputs": [
    {
     "name": "stdout",
     "output_type": "stream",
     "text": [
      "number sequences: 81583\n",
      "number tokens: 24\n"
     ]
    }
   ],
   "source": [
    "print(\"number sequences:\", len(name_to_seq))\n",
    "print(\"number tokens:\", len(set(\"\".join(name_to_seq.values()))))"
   ]
  },
  {
   "cell_type": "code",
   "execution_count": 20,
   "metadata": {},
   "outputs": [],
   "source": [
    "with open(\"data/seq_01.pkl\", \"wb\") as f:\n",
    "    pickle.dump(name_to_seq, f)"
   ]
  },
  {
   "cell_type": "code",
   "execution_count": 35,
   "metadata": {},
   "outputs": [
    {
     "data": {
      "image/png": "[encoded data removed]",
      "text/plain": [
       "<Figure size 640x480 with 1 Axes>"
      ]
     },
     "metadata": {},
     "output_type": "display_data"
    }
   ],
   "source": [
    "lengths = [len(seq) for seq in name_to_seq.values()]\n",
    "plt.hist(lengths, bins=100, log=True);\n",
    "plt.title(\"distribution of protein sequence lengths ($\\mu$={:.2f})\".format(np.mean(lengths)));"
   ]
  },
  {
   "attachments": {},
   "cell_type": "markdown",
   "metadata": {},
   "source": [
    "### Prep final text file\n",
    "One protein sequence per line (~ 19 MB)"
   ]
  },
  {
   "cell_type": "code",
   "execution_count": 37,
   "metadata": {},
   "outputs": [],
   "source": [
    "with open(\"data/seq_01.txt\", \"w\") as f:\n",
    "    f.write(\"\\n\".join(name_to_seq.values()))"
   ]
  }
 ],
 "metadata": {
  "kernelspec": {
   "display_name": "prot-gpt",
   "language": "python",
   "name": "python3"
  },
  "language_info": {
   "codemirror_mode": {
    "name": "ipython",
    "version": 3
   },
   "file_extension": ".py",
   "mimetype": "text/x-python",
   "name": "python",
   "nbconvert_exporter": "python",
   "pygments_lexer": "ipython3",
   "version": "3.10.9"
  },
  "orig_nbformat": 4,
  "vscode": {
   "interpreter": {
    "hash": "ce1b89515fef3d4cfef6e9104e9edf9e02f437173acd0f1472bac3c815597244"
   }
  }
 },
 "nbformat": 4,
 "nbformat_minor": 2
}
