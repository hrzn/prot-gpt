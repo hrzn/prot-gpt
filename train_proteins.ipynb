{
 "cells": [
  {
   "attachments": {},
   "cell_type": "markdown",
   "metadata": {},
   "source": [
    "# Training a GPT model on protein sequences (development notebook)\n",
    "\n",
    "Compared to Shakespeare, we implement a few changes:\n",
    "\n",
    "* We want to train the model to predict protein sequences in isolation from one another; i.e. independent of the sequences shown before.\n",
    "* We want to handle the case where proteins have variables sizes, and some are shorter than the block size. To handle variable-sized proteins in batches we'll use padding with a special token and mask it later on to block the attention mechanism from/to this special token.\n",
    "* We want to use PyTorch Lightning to make our life a little easier."
   ]
  },
  {
   "cell_type": "code",
   "execution_count": 1,
   "metadata": {},
   "outputs": [
    {
     "name": "stdout",
     "output_type": "stream",
     "text": [
      "device: cpu\n"
     ]
    }
   ],
   "source": [
    "import torch\n",
    "import time\n",
    "import random\n",
    "import numpy as np\n",
    "import pytorch_lightning as pl\n",
    "from torch.utils.data import Dataset, DataLoader\n",
    "from collections import Counter\n",
    "import matplotlib.pyplot as plt\n",
    "from torch.utils.data import Sampler\n",
    "from typing import Tuple\n",
    "\n",
    "from nano_transformer import NanoTransformer\n",
    "\n",
    "\n",
    "fname = \"data/prot_seqs.txt\"\n",
    "\n",
    "# hyperparameters\n",
    "DEVICE = \"cuda\" if torch.cuda.is_available() else \"cpu\"\n",
    "BATCH_SIZE = 32 if DEVICE == \"cpu\" else 64\n",
    "BLOCK_SIZE = 8 if DEVICE == \"cpu\" else 256  # context size\n",
    "N_EMBD = 16 if DEVICE == \"cpu\" else 384  # called d_model in paper\n",
    "N_BLOCKS = 2 if DEVICE == \"cpu\" else 6  # number N of transformer blocks\n",
    "NUM_HEADS = 2 if DEVICE == \"cpu\" else 6  # nr attention heads\n",
    "DROPOUT = 0.2\n",
    "MAX_ITERS = 5000\n",
    "EVAL_INTERVAL = 500 if DEVICE == \"cpu\" else 10\n",
    "LEARNING_RATE = 1e-3 if DEVICE == \"cpu\" else 3e-4\n",
    "EVAL_ITERS = 200\n",
    "print(f\"device: {DEVICE}\")"
   ]
  },
  {
   "cell_type": "code",
   "execution_count": 2,
   "metadata": {},
   "outputs": [],
   "source": [
    "with open(fname, \"r\") as f:\n",
    "    lines = f.readlines()"
   ]
  },
  {
   "attachments": {},
   "cell_type": "markdown",
   "metadata": {},
   "source": [
    "### Encoding amino acid tokens\n",
    "\n",
    "Note: There are 24 amino acids in this dataset.\n",
    "`{'U', 'X', 'O', 'Z'}` are present but not \"commonly\" known amino acids\n",
    "See: https://en.wikipedia.org/wiki/FASTA_format for meaning.\n",
    "\n",
    "In addition:\n",
    "* `\\n` means \"end of protein\"\n",
    "* `!` is our special padding token"
   ]
  },
  {
   "cell_type": "code",
   "execution_count": 3,
   "metadata": {},
   "outputs": [
    {
     "data": {
      "image/png": "[encoded data removed]",
      "text/plain": [
       "<Figure size 640x480 with 1 Axes>"
      ]
     },
     "metadata": {},
     "output_type": "display_data"
    }
   ],
   "source": [
    "pad = \"!\"  # padding character\n",
    "flat_text = [c for line in lines for c in line]  # all proteins concatenated\n",
    "chars = sorted(set(flat_text)) + [pad]\n",
    "vocab_size = len(chars)\n",
    "stoi = {c: i for i, c in enumerate(chars)}\n",
    "itos = {i: c for i, c in enumerate(chars)}\n",
    "\n",
    "counter = Counter(flat_text)\n",
    "plt.bar(counter.keys(), counter.values(), log=True);\n"
   ]
  },
  {
   "cell_type": "code",
   "execution_count": 4,
   "metadata": {},
   "outputs": [],
   "source": [
    "def encode(s):    \n",
    "    return [stoi[c] for c in s]\n",
    "\n",
    "def decode(i):\n",
    "    return \"\".join([itos[ii] for ii in i])\n",
    "\n",
    "def encode_pad(s, block_size):\n",
    "    encoding = encode(s)\n",
    "    return encoding + [stoi[pad]] * max(0, block_size + 1 - len(encoding))\n",
    "\n"
   ]
  },
  {
   "attachments": {},
   "cell_type": "markdown",
   "metadata": {},
   "source": [
    "### Train / val split"
   ]
  },
  {
   "cell_type": "code",
   "execution_count": 5,
   "metadata": {},
   "outputs": [],
   "source": [
    "random.seed(1337)\n",
    "\n",
    "# There is one line per protein.\n",
    "# We shuffle for train/val split (done in place).\n",
    "random.shuffle(lines)\n",
    "\n",
    "n = int(0.9 * len(lines))\n",
    "train_lines = lines[:n]\n",
    "val_lines = lines[n:]"
   ]
  },
  {
   "attachments": {},
   "cell_type": "markdown",
   "metadata": {},
   "source": [
    "## Option 1 - without PyTorch Lightning\n",
    "\n",
    "### Data loader\n",
    "\n",
    "Extract subsequences then pad to block size:"
   ]
  },
  {
   "cell_type": "code",
   "execution_count": null,
   "metadata": {},
   "outputs": [],
   "source": [
    "def encode_batch(batch_lines, block_size):\n",
    "    # encode with padding to block_size+1\n",
    "    return [encode_pad(line, block_size) for line in batch_lines]\n",
    "\n",
    "def get_batch(batch_size, block_size, split):\n",
    "    # generate a small batch of data of inputs x and targets y\n",
    "    lines_to_consider = train_lines if split == \"train\" else val_lines\n",
    "\n",
    "    # ids of proteins in batch\n",
    "    prot_idxs = [random.randint(0, len(lines_to_consider) - 1) for _ in range(batch_size)]\n",
    "    batch_lines = [lines_to_consider[i] for i in prot_idxs]\n",
    "\n",
    "    # encode with padding to block_size+1\n",
    "    prots_encoded = encode_batch(batch_lines, block_size)\n",
    "\n",
    "    # get random start positions for each protein; make sure we don't fetch subsequences made of padding\n",
    "    start_idxs = [random.randint(0, max(0, len(batch_lines[i]) - block_size - 1))\n",
    "                  for i in range(batch_size)]\n",
    "    \n",
    "    # build torch tensors\n",
    "    x = torch.stack([torch.tensor(prots_encoded[i][start_idxs[i] : start_idxs[i] + block_size], dtype=torch.long)\n",
    "                     for i in range(batch_size)])\n",
    "    y = torch.stack([torch.tensor(prots_encoded[i][start_idxs[i] + 1 : start_idxs[i] + block_size + 1], dtype=torch.long) \n",
    "                     for i in range(batch_size)])\n",
    "    lengths_x = torch.tensor([len(batch_lines[i]) for i in range(batch_size)], dtype=torch.long)\n",
    "\n",
    "    x, y, lengths_x = x.to(DEVICE), y.to(DEVICE), lengths_x.to(DEVICE)\n",
    "    return x, y, lengths_x"
   ]
  },
  {
   "cell_type": "code",
   "execution_count": null,
   "metadata": {},
   "outputs": [],
   "source": [
    "random.seed(1)\n",
    "\n",
    "x, y, l = get_batch(3, 32, \"train\")\n",
    "\n",
    "print(x)\n",
    "print(y)\n",
    "print(l)"
   ]
  },
  {
   "attachments": {},
   "cell_type": "markdown",
   "metadata": {},
   "source": [
    "We need some logic to obtain a (B, T, T) mask that prevents communication between padded tokens and the other tokens:"
   ]
  },
  {
   "cell_type": "code",
   "execution_count": null,
   "metadata": {},
   "outputs": [],
   "source": [
    "# a toy example on a small batch of size B\n",
    "x_tmp = torch.tensor([[1,2,3,25,25],\n",
    "                      [1,2,25,25,25]])\n",
    "lengths = torch.tensor([3,2])\n",
    "maxlen = x_tmp.shape[1]\n",
    "\n",
    "mask = torch.arange(maxlen)[None, :] < lengths[:, None]\n",
    "print(mask)\n",
    "\n",
    "# mask = mask.to(torch.uint8)\n",
    "# print(mask)\n",
    "\n",
    "mask = mask[:, None, :]\n",
    "mask = mask & mask.transpose(-2, -1)\n",
    "\n",
    "weights = torch.randn(2, 5, 5)\n",
    "weights = weights.masked_fill(~mask, float(\"-inf\"))\n"
   ]
  },
  {
   "attachments": {},
   "cell_type": "markdown",
   "metadata": {},
   "source": [
    "### Build model"
   ]
  },
  {
   "cell_type": "code",
   "execution_count": null,
   "metadata": {},
   "outputs": [],
   "source": [
    "@torch.no_grad()\n",
    "def estimate_loss():\n",
    "    out = {}\n",
    "    model.eval()\n",
    "    for split in [\"train\", \"val\"]:\n",
    "        losses = torch.zeros(EVAL_ITERS)\n",
    "        for k in range(EVAL_ITERS):\n",
    "            X, Y, Ls = get_batch(BATCH_SIZE, BLOCK_SIZE, split)\n",
    "            _, loss = model(X, Y, Ls)\n",
    "            losses[k] = loss.item()\n",
    "        out[split] = losses.mean()\n",
    "    model.train()\n",
    "    return out\n",
    "\n",
    "\n",
    "torch.manual_seed(1337)\n",
    "random.seed(1337)\n",
    "\n",
    "model = NanoTransformer(\n",
    "    vocab_size=vocab_size,\n",
    "    block_size=BLOCK_SIZE,\n",
    "    n_embd=N_EMBD,\n",
    "    n_blocks=N_BLOCKS,\n",
    "    num_heads=NUM_HEADS,\n",
    "    dropout=DROPOUT,\n",
    ")\n",
    "model = model.to(DEVICE)\n",
    "print(sum(p.numel() for p in model.parameters()) / 1e6, \"M parameters\")\n",
    "\n",
    "# create a PyTorch optimizer\n",
    "optimizer = torch.optim.AdamW(model.parameters(), lr=LEARNING_RATE)\n",
    "\n",
    "tic = time.time()\n",
    "for iter in range(MAX_ITERS):\n",
    "    # evaluate loss on train and val sets\n",
    "    if iter % EVAL_INTERVAL == 0:\n",
    "        losses = estimate_loss()\n",
    "        print(\n",
    "            f\"step {iter}: train loss {losses['train']:.4f}, val loss {losses['val']:.4f}\"\n",
    "        )\n",
    "\n",
    "    # sample a batch of data\n",
    "    xb, yb, lb = get_batch(BATCH_SIZE, BLOCK_SIZE, \"train\")\n",
    "\n",
    "    # evaluate the loss\n",
    "    logits, loss = model(xb, yb, lb)\n",
    "    optimizer.zero_grad(set_to_none=None)\n",
    "    loss.backward()\n",
    "    optimizer.step()\n",
    "print(f\"training duration: {(time.time() - tic):.2f} s.\")"
   ]
  },
  {
   "attachments": {},
   "cell_type": "markdown",
   "metadata": {},
   "source": [
    "In order to generate, we'll use the base rates of each AA appearing in first position:"
   ]
  },
  {
   "cell_type": "code",
   "execution_count": null,
   "metadata": {},
   "outputs": [],
   "source": [
    "nr_times_first = Counter([line[0] for line in train_lines])\n",
    "aa_to_proba_first = {aa: nr_times_first[aa] / len(train_lines) for aa in nr_times_first}\n",
    "\n",
    "plt.bar(aa_to_proba_first.keys(), aa_to_proba_first.values())\n",
    "plt.xlabel(\"amino acid\")\n",
    "plt.ylabel(\"probability to appear in first position\");"
   ]
  },
  {
   "cell_type": "code",
   "execution_count": null,
   "metadata": {},
   "outputs": [],
   "source": [
    "# set numpy and torch seed for reproducibility\n",
    "np.random.seed(1337)\n",
    "torch.manual_seed(1337)\n",
    "\n",
    "def generate_protein_string():\n",
    "    # generate from the model\n",
    "\n",
    "    # start_char_proba = {k: v / sum(counter.values()) for k, v in counter.items()}\n",
    "    start_char = np.random.choice(list(aa_to_proba_first.keys()), p=list(aa_to_proba_first.values()))\n",
    "    # context = torch.tensor([[stoi[start_char]]], dtype=torch.long, device=device)\n",
    "\n",
    "    initial_context = torch.tensor([[stoi[start_char]]], dtype=torch.long, device=DEVICE)  # (1, 1)\n",
    "\n",
    "    return decode(model.generate_line(idx=initial_context,\n",
    "                                      termination_token_idx=stoi[\"\\n\"],\n",
    "                                      pad_token_idx=stoi[\"!\"],\n",
    "                                      ).tolist()[:-1])  # remove the last \\n\n",
    "\n",
    "for _ in range(30):\n",
    "    print(generate_protein_string())"
   ]
  },
  {
   "attachments": {},
   "cell_type": "markdown",
   "metadata": {},
   "source": [
    "## Option 2: with PyTorch Lightning\n",
    "### Defining the Lightning Module"
   ]
  },
  {
   "cell_type": "code",
   "execution_count": 6,
   "metadata": {},
   "outputs": [],
   "source": [
    "class PLNanoTransformer(pl.LightningModule):\n",
    "    def __init__(self, model):\n",
    "        super().__init__()\n",
    "        self.model = model\n",
    "\n",
    "    def forward(self, x, y, lengths):\n",
    "        return self.model(x, y, lengths)\n",
    "\n",
    "    def training_step(self, batch, batch_idx):\n",
    "        x, y, lengths = batch\n",
    "        _, loss = self.model(x, y, lengths)\n",
    "        self.log(\"train_loss\", loss)\n",
    "        self.logger.experiment.add_scalar(\"train_loss\", loss, self.global_step)\n",
    "        return loss\n",
    "\n",
    "    def validation_step(self, batch, batch_idx):\n",
    "        x, y, lengths = batch\n",
    "        _, loss = self.model(x, y, lengths)\n",
    "        self.log(\"val_loss\", loss)\n",
    "        self.logger.experiment.add_scalar(\"val_loss\", loss, self.global_step)\n",
    "        return loss\n",
    "\n",
    "    def configure_optimizers(self):\n",
    "        return torch.optim.AdamW(self.model.parameters(), lr=LEARNING_RATE)\n",
    "    \n",
    "\n",
    "torch.manual_seed(1337)\n",
    "random.seed(1337)\n",
    "\n",
    "inner_model = NanoTransformer(\n",
    "    vocab_size=vocab_size,\n",
    "    block_size=BLOCK_SIZE,\n",
    "    n_embd=N_EMBD,\n",
    "    n_blocks=N_BLOCKS,\n",
    "    num_heads=NUM_HEADS,\n",
    "    dropout=DROPOUT,\n",
    ")\n",
    "# inner_model = inner_model.to(DEVICE)\n",
    "\n",
    "nano_prot_gpt = PLNanoTransformer(inner_model)"
   ]
  },
  {
   "attachments": {},
   "cell_type": "markdown",
   "metadata": {},
   "source": [
    "### Defining a Dataset and DataLoader\n",
    "\n",
    "We need to define a custome PyTorch `Dataset` which disambiguates between line indices and subsequence start indices."
   ]
  },
  {
   "cell_type": "code",
   "execution_count": 7,
   "metadata": {},
   "outputs": [],
   "source": [
    "class LineDataset(Dataset):\n",
    "    def __init__(self, lines):\n",
    "        self.lines = sorted(lines, key=len, reverse=True)\n",
    "        nr_samples_per_line = [len(line) - BLOCK_SIZE for line in self.lines]\n",
    "        self.num_samples = sum(nr_samples_per_line)\n",
    "        self.line_idx_to_cumulative_nr_samples = np.array([0] + np.cumsum(nr_samples_per_line).tolist())\n",
    "\n",
    "    def __len__(self):\n",
    "        return self.num_samples\n",
    "\n",
    "    def __getitem__(self, idx):\n",
    "        # infer line idx from idx, using binary search over line_idx_to_cumulative_nr_samples\n",
    "        # np.searchsorted() returns the index of the first element in the array that is greater than the value\n",
    "        line_idx = np.searchsorted(self.line_idx_to_cumulative_nr_samples, idx, side=\"right\") - 1\n",
    "        start_idx = idx - self.line_idx_to_cumulative_nr_samples[line_idx]\n",
    "\n",
    "        line = self.lines[line_idx]\n",
    "        line_encoded = encode_pad(line, BLOCK_SIZE)\n",
    "\n",
    "        x = torch.tensor(line_encoded[start_idx : start_idx + BLOCK_SIZE], dtype=torch.long)\n",
    "        y = torch.tensor(line_encoded[start_idx + 1 : start_idx + BLOCK_SIZE + 1], dtype=torch.long)\n",
    "        length = torch.tensor(min(len(line), BLOCK_SIZE), dtype=torch.long)\n",
    "        return x, y, length\n",
    "    \n",
    "# sampler = SubsequenceSampler(train_lines)\n",
    "train_dataset = LineDataset(train_lines)\n",
    "train_loader = DataLoader(dataset=train_dataset,\n",
    "                    batch_size=BATCH_SIZE,\n",
    "                    shuffle=True)\n",
    "\n",
    "val_dataset = LineDataset(val_lines)\n",
    "val_loader = DataLoader(dataset=val_dataset,\n",
    "                    batch_size=BATCH_SIZE,\n",
    "                    shuffle=False)"
   ]
  },
  {
   "attachments": {},
   "cell_type": "markdown",
   "metadata": {},
   "source": [
    "### Training the model"
   ]
  },
  {
   "cell_type": "code",
   "execution_count": 8,
   "metadata": {},
   "outputs": [
    {
     "name": "stderr",
     "output_type": "stream",
     "text": [
      "Global seed set to 1337\n",
      "GPU available: True (mps), used: False\n",
      "TPU available: False, using: 0 TPU cores\n",
      "IPU available: False, using: 0 IPUs\n",
      "HPU available: False, using: 0 HPUs\n",
      "/Users/julien/miniconda3/envs/prot-gpt/lib/python3.10/site-packages/pytorch_lightning/trainer/setup.py:201: UserWarning: MPS available but not used. Set `accelerator` and `devices` using `Trainer(accelerator='mps', devices=1)`.\n",
      "  rank_zero_warn(\n",
      "\n",
      "  | Name  | Type            | Params\n",
      "------------------------------------------\n",
      "0 | model | NanoTransformer | 7.5 K \n",
      "------------------------------------------\n",
      "7.5 K     Trainable params\n",
      "0         Non-trainable params\n",
      "7.5 K     Total params\n",
      "0.030     Total estimated model params size (MB)\n"
     ]
    },
    {
     "data": {
      "application/vnd.jupyter.widget-view+json": {
       "model_id": "d5ec3cd9baa343cab31a5a49676b7301",
       "version_major": 2,
       "version_minor": 0
      },
      "text/plain": [
       "Sanity Checking: 0it [00:00, ?it/s]"
      ]
     },
     "metadata": {},
     "output_type": "display_data"
    },
    {
     "name": "stderr",
     "output_type": "stream",
     "text": [
      "/Users/julien/miniconda3/envs/prot-gpt/lib/python3.10/site-packages/pytorch_lightning/trainer/connectors/data_connector.py:224: PossibleUserWarning: The dataloader, val_dataloader 0, does not have many workers which may be a bottleneck. Consider increasing the value of the `num_workers` argument` (try 8 which is the number of cpus on this machine) in the `DataLoader` init to improve performance.\n",
      "  rank_zero_warn(\n",
      "/Users/julien/miniconda3/envs/prot-gpt/lib/python3.10/site-packages/pytorch_lightning/trainer/connectors/data_connector.py:224: PossibleUserWarning: The dataloader, train_dataloader, does not have many workers which may be a bottleneck. Consider increasing the value of the `num_workers` argument` (try 8 which is the number of cpus on this machine) in the `DataLoader` init to improve performance.\n",
      "  rank_zero_warn(\n"
     ]
    },
    {
     "data": {
      "application/vnd.jupyter.widget-view+json": {
       "model_id": "176e60cc78d346bebf2713b648d5f831",
       "version_major": 2,
       "version_minor": 0
      },
      "text/plain": [
       "Training: 0it [00:00, ?it/s]"
      ]
     },
     "metadata": {},
     "output_type": "display_data"
    },
    {
     "data": {
      "application/vnd.jupyter.widget-view+json": {
       "model_id": "4c47fdcc19a24ee3ad9185ad73c93ed3",
       "version_major": 2,
       "version_minor": 0
      },
      "text/plain": [
       "Validation: 0it [00:00, ?it/s]"
      ]
     },
     "metadata": {},
     "output_type": "display_data"
    },
    {
     "data": {
      "application/vnd.jupyter.widget-view+json": {
       "model_id": "11391c599d5c40b9808cfcc3ac0427ce",
       "version_major": 2,
       "version_minor": 0
      },
      "text/plain": [
       "Validation: 0it [00:00, ?it/s]"
      ]
     },
     "metadata": {},
     "output_type": "display_data"
    },
    {
     "data": {
      "application/vnd.jupyter.widget-view+json": {
       "model_id": "6b4dd8f2cf44497cad46500dac0f1b2c",
       "version_major": 2,
       "version_minor": 0
      },
      "text/plain": [
       "Validation: 0it [00:00, ?it/s]"
      ]
     },
     "metadata": {},
     "output_type": "display_data"
    }
   ],
   "source": [
    "from pytorch_lightning.callbacks import TQDMProgressBar\n",
    "from pytorch_lightning.loggers import TensorBoardLogger\n",
    "from pytorch_lightning import seed_everything\n",
    "\n",
    "seed_everything(1337)\n",
    "\n",
    "logger = TensorBoardLogger(\"tensorboard_logs\", name=\"nano_prot_gpt\")\n",
    "\n",
    "# log hyperparameters\n",
    "logger.log_hyperparams({\n",
    "    \"block_size\": BLOCK_SIZE,\n",
    "    \"n_embd\": N_EMBD,\n",
    "    \"n_blocks\": N_BLOCKS,\n",
    "    \"num_heads\": NUM_HEADS,\n",
    "    \"dropout\": DROPOUT,\n",
    "    \"max_iters\": MAX_ITERS,\n",
    "    \"learning_rate\": LEARNING_RATE,\n",
    "    \"batch_size\": BATCH_SIZE,\n",
    "})\n",
    "\n",
    "trainer = pl.Trainer(max_steps=MAX_ITERS,\n",
    "                     val_check_interval=EVAL_INTERVAL,\n",
    "                     limit_val_batches=200,  # only run eval on 0.5% of the validation set\n",
    "                     callbacks=[TQDMProgressBar(refresh_rate=20)],\n",
    "                     precision=32,\n",
    "                     logger=logger,\n",
    "                     accelerator=DEVICE)\n",
    "\n",
    "trainer.fit(model=nano_prot_gpt, \n",
    "            train_dataloaders=train_loader, \n",
    "            val_dataloaders=val_loader)"
   ]
  },
  {
   "attachments": {},
   "cell_type": "markdown",
   "metadata": {},
   "source": []
  },
  {
   "cell_type": "code",
   "execution_count": null,
   "metadata": {},
   "outputs": [],
   "source": [
    "%load_ext tensorboard"
   ]
  },
  {
   "attachments": {},
   "cell_type": "markdown",
   "metadata": {},
   "source": [
    "TODO:\n",
    "* Proper management of accelerators\n",
    "* Early stopping\n",
    "* `auto_lr_find`\n",
    "* Maybe `auto_scale_batch_size`\n",
    "* Maybe `gradient_clip_val`"
   ]
  },
  {
   "cell_type": "markdown",
   "metadata": {},
   "source": []
  }
 ],
 "metadata": {
  "kernelspec": {
   "display_name": "prot-gpt",
   "language": "python",
   "name": "python3"
  },
  "language_info": {
   "codemirror_mode": {
    "name": "ipython",
    "version": 3
   },
   "file_extension": ".py",
   "mimetype": "text/x-python",
   "name": "python",
   "nbconvert_exporter": "python",
   "pygments_lexer": "ipython3",
   "version": "3.10.9"
  },
  "orig_nbformat": 4,
  "vscode": {
   "interpreter": {
    "hash": "ce1b89515fef3d4cfef6e9104e9edf9e02f437173acd0f1472bac3c815597244"
   }
  }
 },
 "nbformat": 4,
 "nbformat_minor": 2
}
