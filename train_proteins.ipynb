{
 "cells": [
  {
   "attachments": {},
   "cell_type": "markdown",
   "metadata": {},
   "source": [
    "# Training a GPT model on protein sequences\n",
    "\n",
    "Compared to Shakespeare, we implement a few changes:\n",
    "\n",
    "* We want to train the model to predict protein sequences in isolation from one another; i.e. independent of the sequences shown before.\n",
    "* We want to handle the case where proteins have variables sizes, and some are shorter than the block size. To handle variable-sized proteins in batches we'll use padding with a special token and mask it later on to block the attention mechanism from/to this special token.\n",
    "* We want to use PyTorch Lightning to make our life a little easier."
   ]
  },
  {
   "cell_type": "code",
   "execution_count": 20,
   "metadata": {},
   "outputs": [
    {
     "name": "stdout",
     "output_type": "stream",
     "text": [
      "device: cpu\n"
     ]
    }
   ],
   "source": [
    "import torch\n",
    "import torch.nn as nn\n",
    "from torch.nn import functional as F\n",
    "import time\n",
    "import random\n",
    "from collections import Counter\n",
    "import matplotlib.pyplot as plt\n",
    "\n",
    "from nano_transformer import NanoTransformer\n",
    "\n",
    "\n",
    "fname = \"data/prot_seqs.txt\"\n",
    "\n",
    "# hyperparameters\n",
    "device = \"cuda\" if torch.cuda.is_available() else \"cpu\"\n",
    "batch_size = 32 if device == \"cpu\" else 64\n",
    "block_size = 8 if device == \"cpu\" else 256  # context size\n",
    "n_embd = 16 if device == \"cpu\" else 384  # called d_model in paper\n",
    "n_blocks = 2 if device == \"cpu\" else 6  # number N of transformer blocks\n",
    "# head_size = 32  # called d_k = d_v\n",
    "num_heads = 2 if device == \"cpu\" else 6  # nr attention heads\n",
    "dropout = 0.2\n",
    "max_iters = 5000\n",
    "eval_interval = 500 if device == \"cpu\" else 10\n",
    "learning_rate = 1e-3 if device == \"cpu\" else 3e-4\n",
    "\n",
    "eval_iters = 200\n",
    "print(f\"device: {device}\")"
   ]
  },
  {
   "cell_type": "code",
   "execution_count": 27,
   "metadata": {},
   "outputs": [],
   "source": [
    "with open(fname, \"r\") as f:\n",
    "    lines = f.readlines()"
   ]
  },
  {
   "attachments": {},
   "cell_type": "markdown",
   "metadata": {},
   "source": [
    "### Encoding amino acid tokens\n",
    "\n",
    "Note: There are 24 amino acids in this dataset.\n",
    "`{'U', 'X', 'O', 'Z'}` are present but not \"commonly\" known amino acids\n",
    "See: https://en.wikipedia.org/wiki/FASTA_format for meaning.\n",
    "\n",
    "In addition:\n",
    "* `\\n` means \"end of protein\"\n",
    "* `!` is our special padding token"
   ]
  },
  {
   "cell_type": "code",
   "execution_count": 35,
   "metadata": {},
   "outputs": [
    {
     "data": {
      "image/png": "[encoded data removed]",
      "text/plain": [
       "<Figure size 640x480 with 1 Axes>"
      ]
     },
     "metadata": {},
     "output_type": "display_data"
    }
   ],
   "source": [
    "pad = \"!\"  # padding character\n",
    "flat_text = [c for line in lines for c in line]  # all proteins concatenated\n",
    "chars = sorted(set(flat_text)) + [pad]\n",
    "vocab_size = len(chars)\n",
    "stoi = {c: i for i, c in enumerate(chars)}\n",
    "itos = {i: c for i, c in enumerate(chars)}\n",
    "\n",
    "\n",
    "\n",
    "counter = Counter(flat_text)\n",
    "plt.bar(counter.keys(), counter.values(), log=True);\n"
   ]
  },
  {
   "cell_type": "code",
   "execution_count": 57,
   "metadata": {},
   "outputs": [],
   "source": [
    "def encode(s):    \n",
    "    return [stoi[c] for c in s]\n",
    "\n",
    "def decode(i):\n",
    "    return \"\".join([itos[ii] for ii in i])\n",
    "\n",
    "def encode_batch(batch_lines):\n",
    "    # encode with padding to either block_size+1 or max_length+1\n",
    "    encodings = [encode(line) for line in batch_lines]\n",
    "    max_length = max([len(line) for line in encodings])\n",
    "    final_length = max(block_size+1, max_length+1)\n",
    "    for encoding in encodings:\n",
    "        if len(encoding) < final_length:\n",
    "            encoding += [stoi[pad]] * (final_length - len(encoding))\n",
    "    return encodings"
   ]
  },
  {
   "attachments": {},
   "cell_type": "markdown",
   "metadata": {},
   "source": [
    "### Train / val split"
   ]
  },
  {
   "cell_type": "code",
   "execution_count": 58,
   "metadata": {},
   "outputs": [],
   "source": [
    "random.seed(1337)\n",
    "\n",
    "# There is one line per protein.\n",
    "# We shuffle for train/val split (done in place).\n",
    "random.shuffle(lines)\n",
    "\n",
    "n = int(0.9 * len(lines))\n",
    "train_lines = lines[:n]\n",
    "val_lines = lines[n:]"
   ]
  },
  {
   "attachments": {},
   "cell_type": "markdown",
   "metadata": {},
   "source": [
    "### Data loader\n",
    "\n",
    "TODO: return lengths of each sequences in order to know how to mask later on"
   ]
  },
  {
   "cell_type": "code",
   "execution_count": 116,
   "metadata": {},
   "outputs": [],
   "source": [
    "def get_batch(batch_size, block_size, split):\n",
    "    # generate a small batch of data of inputs x and targets y\n",
    "    lines_to_consider = train_lines if split == \"train\" else val_lines\n",
    "\n",
    "    # ids of proteins in batch\n",
    "    prot_idxs = [random.randint(0, len(lines_to_consider) - 1) for _ in range(batch_size)]\n",
    "    batch_lines = [lines_to_consider[i] for i in prot_idxs]\n",
    "\n",
    "    # encode with padding to max(block_size+1, max_length+1)\n",
    "    prots_encoded = encode_batch(batch_lines)\n",
    "\n",
    "    # get random start positions for each protein; make sure we don't fetch subsequences made of padding\n",
    "    start_idxs = [random.randint(0, max(0, len(batch_lines[i]) - block_size - 1))\n",
    "                  for i in range(batch_size)]\n",
    "    \n",
    "    # build torch tensors\n",
    "    x = torch.stack([torch.tensor(prots_encoded[i][start_idxs[i] : start_idxs[i] + block_size], dtype=torch.long)\n",
    "                     for i in range(batch_size)])\n",
    "    y = torch.stack([torch.tensor(prots_encoded[i][start_idxs[i] + 1 : start_idxs[i] + block_size + 1], dtype=torch.long) \n",
    "                     for i in range(batch_size)])\n",
    "\n",
    "    x, y = x.to(device), y.to(device)\n",
    "    return x, y"
   ]
  },
  {
   "cell_type": "code",
   "execution_count": 126,
   "metadata": {},
   "outputs": [
    {
     "name": "stdout",
     "output_type": "stream",
     "text": [
      "tensor([[ 6, 17,  6, 15,  5, 16, 20,  8,  6, 14,  6,  7, 14,  8, 16,  1, 10, 20,\n",
      "          6,  3,  4,  1,  4, 10, 14,  2, 16,  8, 17, 14,  6,  9, 12,  1, 18,  6,\n",
      "         11,  4, 20,  6, 21, 23, 16, 17, 14,  5, 17, 16, 20, 20,  7, 10, 23, 16,\n",
      "         12,  6,  9,  3, 15,  3,  1,  4, 15,  1, 14,  4, 23, 16,  6, 16, 18,  4,\n",
      "         10, 10,  9,  4, 17,  8,  6,  4,  6,  9, 20,  1, 10, 16,  8, 15, 12, 20,\n",
      "         16,  5, 17,  3,  4,  6,  6, 23, 18,  2,  5,  5, 16,  3,  7, 17, 23, 15,\n",
      "          4,  4,  1,  1, 20,  4, 10,  9, 20,  4,  3, 14,  5, 23, 21,  8, 12, 14,\n",
      "          6, 16],\n",
      "        [12, 10, 10, 11, 23, 16, 23,  9, 15, 10,  3,  6,  1, 23,  8, 12,  1, 15,\n",
      "          4, 15,  6, 10,  9,  6,  1, 10,  5, 14, 11, 20, 18,  5,  3,  6,  8,  4,\n",
      "          2,  7, 12,  4, 21,  4,  8, 18,  5,  4,  4,  8,  7, 16, 12,  6,  3,  8,\n",
      "          1,  5,  1,  8, 23, 12, 23, 18, 16, 23, 18,  6,  3,  3, 17, 23, 20, 10,\n",
      "          7,  4,  6,  1,  9, 20, 10, 18,  4,  8, 17, 16,  5, 21,  1,  3, 16, 20,\n",
      "          7,  5, 17,  9, 16, 12, 12, 15, 23, 11,  8,  7,  6, 20, 18,  6,  1,  3,\n",
      "          4, 23,  4, 12, 12, 20,  3, 12, 12, 21,  3, 18, 12, 11, 10,  1, 15, 21,\n",
      "         18, 10]])\n",
      "tensor([[17,  6, 15,  5, 16, 20,  8,  6, 14,  6,  7, 14,  8, 16,  1, 10, 20,  6,\n",
      "          3,  4,  1,  4, 10, 14,  2, 16,  8, 17, 14,  6,  9, 12,  1, 18,  6, 11,\n",
      "          4, 20,  6, 21, 23, 16, 17, 14,  5, 17, 16, 20, 20,  7, 10, 23, 16, 12,\n",
      "          6,  9,  3, 15,  3,  1,  4, 15,  1, 14,  4, 23, 16,  6, 16, 18,  4, 10,\n",
      "         10,  9,  4, 17,  8,  6,  4,  6,  9, 20,  1, 10, 16,  8, 15, 12, 20, 16,\n",
      "          5, 17,  3,  4,  6,  6, 23, 18,  2,  5,  5, 16,  3,  7, 17, 23, 15,  4,\n",
      "          4,  1,  1, 20,  4, 10,  9, 20,  4,  3, 14,  5, 23, 21,  8, 12, 14,  6,\n",
      "         16, 17],\n",
      "        [10, 10, 11, 23, 16, 23,  9, 15, 10,  3,  6,  1, 23,  8, 12,  1, 15,  4,\n",
      "         15,  6, 10,  9,  6,  1, 10,  5, 14, 11, 20, 18,  5,  3,  6,  8,  4,  2,\n",
      "          7, 12,  4, 21,  4,  8, 18,  5,  4,  4,  8,  7, 16, 12,  6,  3,  8,  1,\n",
      "          5,  1,  8, 23, 12, 23, 18, 16, 23, 18,  6,  3,  3, 17, 23, 20, 10,  7,\n",
      "          4,  6,  1,  9, 20, 10, 18,  4,  8, 17, 16,  5, 21,  1,  3, 16, 20,  7,\n",
      "          5, 17,  9, 16, 12, 12, 15, 23, 11,  8,  7,  6, 20, 18,  6,  1,  3,  4,\n",
      "         23,  4, 12, 12, 20,  3, 12, 12, 21,  3, 18, 12, 11, 10,  1, 15, 21, 18,\n",
      "         10,  9]])\n"
     ]
    }
   ],
   "source": [
    "random.seed(3)\n",
    "\n",
    "x, y = get_batch(2, 128, \"train\")\n",
    "\n",
    "print(x)\n",
    "print(y)"
   ]
  },
  {
   "cell_type": "code",
   "execution_count": null,
   "metadata": {},
   "outputs": [],
   "source": []
  }
 ],
 "metadata": {
  "kernelspec": {
   "display_name": "prot-gpt",
   "language": "python",
   "name": "python3"
  },
  "language_info": {
   "codemirror_mode": {
    "name": "ipython",
    "version": 3
   },
   "file_extension": ".py",
   "mimetype": "text/x-python",
   "name": "python",
   "nbconvert_exporter": "python",
   "pygments_lexer": "ipython3",
   "version": "3.10.9"
  },
  "orig_nbformat": 4,
  "vscode": {
   "interpreter": {
    "hash": "ce1b89515fef3d4cfef6e9104e9edf9e02f437173acd0f1472bac3c815597244"
   }
  }
 },
 "nbformat": 4,
 "nbformat_minor": 2
}
