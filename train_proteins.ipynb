{
 "cells": [
  {
   "attachments": {},
   "cell_type": "markdown",
   "metadata": {},
   "source": [
    "# Training a GPT model on protein sequences\n",
    "\n",
    "Compared to Shakespeare, we implement a few changes:\n",
    "\n",
    "* We want to train the model to predict protein sequences in isolation from one another; i.e. independent of the sequences shown before.\n",
    "* We want to handle the case where proteins have variables sizes, and some are shorter than the block size. To handle variable-sized proteins in batches we'll use padding with a special token and mask it later on to block the attention mechanism from/to this special token.\n",
    "* We want to use PyTorch Lightning to make our life a little easier."
   ]
  },
  {
   "cell_type": "code",
   "execution_count": 1,
   "metadata": {},
   "outputs": [
    {
     "name": "stdout",
     "output_type": "stream",
     "text": [
      "device: cpu\n"
     ]
    }
   ],
   "source": [
    "import torch\n",
    "import time\n",
    "import random\n",
    "import numpy as np\n",
    "from collections import Counter\n",
    "import matplotlib.pyplot as plt\n",
    "\n",
    "from nano_transformer import NanoTransformer\n",
    "\n",
    "\n",
    "fname = \"data/prot_seqs.txt\"\n",
    "\n",
    "# hyperparameters\n",
    "device = \"cuda\" if torch.cuda.is_available() else \"cpu\"\n",
    "batch_size = 32 if device == \"cpu\" else 64\n",
    "block_size = 8 if device == \"cpu\" else 256  # context size\n",
    "n_embd = 16 if device == \"cpu\" else 384  # called d_model in paper\n",
    "n_blocks = 2 if device == \"cpu\" else 6  # number N of transformer blocks\n",
    "# head_size = 32  # called d_k = d_v\n",
    "num_heads = 2 if device == \"cpu\" else 6  # nr attention heads\n",
    "dropout = 0.2\n",
    "max_iters = 5000\n",
    "eval_interval = 500 if device == \"cpu\" else 10\n",
    "learning_rate = 1e-3 if device == \"cpu\" else 3e-4\n",
    "\n",
    "eval_iters = 200\n",
    "print(f\"device: {device}\")"
   ]
  },
  {
   "cell_type": "code",
   "execution_count": 2,
   "metadata": {},
   "outputs": [],
   "source": [
    "with open(fname, \"r\") as f:\n",
    "    lines = f.readlines()"
   ]
  },
  {
   "attachments": {},
   "cell_type": "markdown",
   "metadata": {},
   "source": [
    "### Encoding amino acid tokens\n",
    "\n",
    "Note: There are 24 amino acids in this dataset.\n",
    "`{'U', 'X', 'O', 'Z'}` are present but not \"commonly\" known amino acids\n",
    "See: https://en.wikipedia.org/wiki/FASTA_format for meaning.\n",
    "\n",
    "In addition:\n",
    "* `\\n` means \"end of protein\"\n",
    "* `!` is our special padding token"
   ]
  },
  {
   "cell_type": "code",
   "execution_count": 3,
   "metadata": {},
   "outputs": [
    {
     "data": {
      "image/png": "[encoded data removed]",
      "text/plain": [
       "<Figure size 640x480 with 1 Axes>"
      ]
     },
     "metadata": {},
     "output_type": "display_data"
    }
   ],
   "source": [
    "pad = \"!\"  # padding character\n",
    "flat_text = [c for line in lines for c in line]  # all proteins concatenated\n",
    "chars = sorted(set(flat_text)) + [pad]\n",
    "vocab_size = len(chars)\n",
    "stoi = {c: i for i, c in enumerate(chars)}\n",
    "itos = {i: c for i, c in enumerate(chars)}\n",
    "\n",
    "\n",
    "\n",
    "counter = Counter(flat_text)\n",
    "plt.bar(counter.keys(), counter.values(), log=True);\n"
   ]
  },
  {
   "cell_type": "code",
   "execution_count": 4,
   "metadata": {},
   "outputs": [],
   "source": [
    "def encode(s):    \n",
    "    return [stoi[c] for c in s]\n",
    "\n",
    "def decode(i):\n",
    "    return \"\".join([itos[ii] for ii in i])\n",
    "\n",
    "def encode_batch(batch_lines):\n",
    "    # encode with padding to either block_size+1 or max_length+1\n",
    "    encodings = [encode(line) for line in batch_lines]\n",
    "    max_length = max([len(line) for line in encodings])\n",
    "    final_length = max(block_size+1, max_length+1)\n",
    "    for encoding in encodings:\n",
    "        if len(encoding) < final_length:\n",
    "            encoding += [stoi[pad]] * (final_length - len(encoding))\n",
    "    return encodings"
   ]
  },
  {
   "attachments": {},
   "cell_type": "markdown",
   "metadata": {},
   "source": [
    "### Train / val split"
   ]
  },
  {
   "cell_type": "code",
   "execution_count": 5,
   "metadata": {},
   "outputs": [],
   "source": [
    "random.seed(1337)\n",
    "\n",
    "# There is one line per protein.\n",
    "# We shuffle for train/val split (done in place).\n",
    "random.shuffle(lines)\n",
    "\n",
    "n = int(0.9 * len(lines))\n",
    "train_lines = lines[:n]\n",
    "val_lines = lines[n:]"
   ]
  },
  {
   "attachments": {},
   "cell_type": "markdown",
   "metadata": {},
   "source": [
    "### Data loader\n",
    "\n",
    "TODO: return lengths of each sequences in order to know how to mask later on"
   ]
  },
  {
   "cell_type": "code",
   "execution_count": 6,
   "metadata": {},
   "outputs": [],
   "source": [
    "def get_batch(batch_size, block_size, split):\n",
    "    # generate a small batch of data of inputs x and targets y\n",
    "    lines_to_consider = train_lines if split == \"train\" else val_lines\n",
    "\n",
    "    # ids of proteins in batch\n",
    "    prot_idxs = [random.randint(0, len(lines_to_consider) - 1) for _ in range(batch_size)]\n",
    "    batch_lines = [lines_to_consider[i] for i in prot_idxs]\n",
    "\n",
    "    # encode with padding to max(block_size+1, max_length+1)\n",
    "    prots_encoded = encode_batch(batch_lines)\n",
    "\n",
    "    # get random start positions for each protein; make sure we don't fetch subsequences made of padding\n",
    "    start_idxs = [random.randint(0, max(0, len(batch_lines[i]) - block_size - 1))\n",
    "                  for i in range(batch_size)]\n",
    "    \n",
    "    # build torch tensors\n",
    "    x = torch.stack([torch.tensor(prots_encoded[i][start_idxs[i] : start_idxs[i] + block_size], dtype=torch.long)\n",
    "                     for i in range(batch_size)])\n",
    "    y = torch.stack([torch.tensor(prots_encoded[i][start_idxs[i] + 1 : start_idxs[i] + block_size + 1], dtype=torch.long) \n",
    "                     for i in range(batch_size)])\n",
    "    lengths_x = torch.tensor([len(batch_lines[i]) for i in range(batch_size)], dtype=torch.long)\n",
    "\n",
    "    x, y, lengths_x = x.to(device), y.to(device), lengths_x.to(device)\n",
    "    return x, y, lengths_x"
   ]
  },
  {
   "cell_type": "code",
   "execution_count": 7,
   "metadata": {},
   "outputs": [
    {
     "name": "stdout",
     "output_type": "stream",
     "text": [
      "tensor([[ 4, 14, 20, 18, 20, 17, 21, 12, 17,  6,  1, 10, 18, 17,  6, 20],\n",
      "        [ 6, 10, 20, 14, 16,  6, 17, 10, 10, 10, 16, 16, 15, 10,  1,  4],\n",
      "        [ 9,  8, 17,  2,  9,  1, 17,  6, 23, 18,  5, 18,  4, 23, 14, 11]])\n",
      "tensor([[14, 20, 18, 20, 17, 21, 12, 17,  6,  1, 10, 18, 17,  6, 20,  7],\n",
      "        [10, 20, 14, 16,  6, 17, 10, 10, 10, 16, 16, 15, 10,  1,  4, 10],\n",
      "        [ 8, 17,  2,  9,  1, 17,  6, 23, 18,  5, 18,  4, 23, 14, 11, 10]])\n",
      "torch.Size([3])\n"
     ]
    }
   ],
   "source": [
    "random.seed(7)\n",
    "\n",
    "x, y, l = get_batch(3, 16, \"train\")\n",
    "\n",
    "print(x)\n",
    "print(y)\n",
    "print(l.shape)"
   ]
  },
  {
   "attachments": {},
   "cell_type": "markdown",
   "metadata": {},
   "source": [
    "We need some logic to obtain a (B, T, T) mask that prevents communication between padded tokens and the other tokens:"
   ]
  },
  {
   "cell_type": "code",
   "execution_count": 8,
   "metadata": {},
   "outputs": [
    {
     "name": "stdout",
     "output_type": "stream",
     "text": [
      "tensor([[ True,  True,  True, False, False],\n",
      "        [ True,  True, False, False, False]])\n"
     ]
    }
   ],
   "source": [
    "# a toy example on a small batch of size B\n",
    "x_tmp = torch.tensor([[1,2,3,25,25],\n",
    "                      [1,2,25,25,25]])\n",
    "lengths = torch.tensor([3,2])\n",
    "maxlen = x_tmp.shape[1]\n",
    "\n",
    "mask = torch.arange(maxlen)[None, :] < lengths[:, None]\n",
    "print(mask)\n",
    "\n",
    "# mask = mask.to(torch.uint8)\n",
    "# print(mask)\n",
    "\n",
    "mask = mask[:, None, :]\n",
    "mask = mask & mask.transpose(-2, -1)\n",
    "\n",
    "weights = torch.randn(2, 5, 5)\n",
    "weights = weights.masked_fill(~mask, float(\"-inf\"))\n"
   ]
  },
  {
   "attachments": {},
   "cell_type": "markdown",
   "metadata": {},
   "source": [
    "### Build model"
   ]
  },
  {
   "cell_type": "code",
   "execution_count": 9,
   "metadata": {},
   "outputs": [
    {
     "name": "stdout",
     "output_type": "stream",
     "text": [
      "0.007482 M parameters\n",
      "step 0: train loss 3.3878, val loss 3.3752\n",
      "step 500: train loss 2.8823, val loss 2.8909\n",
      "step 1000: train loss 2.8728, val loss 2.8695\n",
      "step 1500: train loss 2.8674, val loss 2.8674\n",
      "step 2000: train loss 2.8674, val loss 2.8636\n",
      "step 2500: train loss 2.8579, val loss 2.8666\n",
      "step 3000: train loss 2.8521, val loss 2.8561\n",
      "step 3500: train loss 2.8472, val loss 2.8519\n",
      "step 4000: train loss 2.8484, val loss 2.8488\n",
      "step 4500: train loss 2.8514, val loss 2.8540\n",
      "training duration: 28.93 s.\n"
     ]
    }
   ],
   "source": [
    "@torch.no_grad()\n",
    "def estimate_loss():\n",
    "    out = {}\n",
    "    model.eval()\n",
    "    for split in [\"train\", \"val\"]:\n",
    "        losses = torch.zeros(eval_iters)\n",
    "        for k in range(eval_iters):\n",
    "            X, Y, Ls = get_batch(batch_size, block_size, split)\n",
    "            _, loss = model(X, Y, Ls)\n",
    "            losses[k] = loss.item()\n",
    "        out[split] = losses.mean()\n",
    "    model.train()\n",
    "    return out\n",
    "\n",
    "\n",
    "torch.manual_seed(1337)\n",
    "random.seed(1337)\n",
    "\n",
    "model = NanoTransformer(\n",
    "    vocab_size=vocab_size,\n",
    "    block_size=block_size,\n",
    "    n_embd=n_embd,\n",
    "    n_blocks=n_blocks,\n",
    "    num_heads=num_heads,\n",
    "    dropout=dropout,\n",
    ")\n",
    "model = model.to(device)\n",
    "print(sum(p.numel() for p in model.parameters()) / 1e6, \"M parameters\")\n",
    "\n",
    "# create a PyTorch optimizer\n",
    "optimizer = torch.optim.AdamW(model.parameters(), lr=learning_rate)\n",
    "\n",
    "tic = time.time()\n",
    "for iter in range(max_iters):\n",
    "    # evaluate loss on train and val sets\n",
    "    if iter % eval_interval == 0:\n",
    "        losses = estimate_loss()\n",
    "        print(\n",
    "            f\"step {iter}: train loss {losses['train']:.4f}, val loss {losses['val']:.4f}\"\n",
    "        )\n",
    "\n",
    "    # sample a batch of data\n",
    "    xb, yb, lb = get_batch(batch_size, block_size, \"train\")\n",
    "\n",
    "    # evaluate the loss\n",
    "    logits, loss = model(xb, yb, lb)\n",
    "    optimizer.zero_grad(set_to_none=None)\n",
    "    loss.backward()\n",
    "    optimizer.step()\n",
    "print(f\"training duration: {(time.time() - tic):.2f} s.\")"
   ]
  },
  {
   "cell_type": "code",
   "execution_count": 12,
   "metadata": {},
   "outputs": [],
   "source": [
    "import torch.nn.functional as F\n",
    "\n",
    "def generate_line(model, first_char_idx, termination_token_idx):\n",
    "    idx = torch.tensor([[first_char_idx]], dtype=torch.long, device=device)  # (1, 1)\n",
    "\n",
    "    while idx[0][-1].item() != termination_token_idx:\n",
    "        # length = torch.tensor([[idx.shape[1]]], dtype=torch.long, device=device)  # (1, 1)\n",
    "        logits, _ = model(idx=idx[:, -block_size :])\n",
    "                          # lengths=length)\n",
    "        # print(logits)\n",
    "        logits = logits[:, -1, :]  # (B, C)\n",
    "        probs = F.softmax(logits, dim=-1)  # (B, C)\n",
    "        idx_next = torch.multinomial(probs, num_samples=1)  # (B, 1)\n",
    "        idx = torch.cat((idx, idx_next), dim=1)  # (B, T+1)\n",
    "        # print(idx)\n",
    "    return idx[0]\n"
   ]
  },
  {
   "cell_type": "code",
   "execution_count": 20,
   "metadata": {},
   "outputs": [
    {
     "name": "stdout",
     "output_type": "stream",
     "text": [
      "EKHYQAGGRGLQLQVPELVRSPRKANTFARLKAALMKPNVSAIHFMTQKIDGMPTGKSPPTTVNVHLPSSTAIEEKPGKEFPRGRLEKGMYLDHWVLKGMDQNV\n",
      "LEVNETLYMVINFILPWLPMQLTVGQTVVQDSRALQESDGGPNEKALEAYSQLKLIIMKYRVTYQIDGTFSDTKAIITGFTGAEATVKKLA\n",
      "EGLLVEEGLDRPGSESAEYDLWGISHLQFYNHSSNAQILDRKRLWPAEEHEGMLRDLVAAL\n"
     ]
    }
   ],
   "source": [
    "# set numpy and torch seed for reproducibility\n",
    "np.random.seed(1337)\n",
    "torch.manual_seed(1337)\n",
    "\n",
    "def generate_protein_string():\n",
    "    # generate from the model\n",
    "    # TODO: actually use probability for an AA to be first in a protein\n",
    "    start_char_proba = {k: v / sum(counter.values()) for k, v in counter.items()}\n",
    "    start_char = np.random.choice(list(start_char_proba.keys()), p=list(start_char_proba.values()))\n",
    "    # context = torch.tensor([[stoi[start_char]]], dtype=torch.long, device=device)\n",
    "\n",
    "    return decode(generate_line(model, \n",
    "                            first_char_idx=stoi[start_char],\n",
    "                            termination_token_idx=stoi[\"\\n\"]).tolist()[:-1])  # remove the last \\n\n",
    "\n",
    "for _ in range(5):\n",
    "    print(generate_protein_string())"
   ]
  },
  {
   "cell_type": "code",
   "execution_count": 16,
   "metadata": {},
   "outputs": [
    {
     "data": {
      "text/plain": [
       "0"
      ]
     },
     "execution_count": 16,
     "metadata": {},
     "output_type": "execute_result"
    }
   ],
   "source": []
  },
  {
   "cell_type": "code",
   "execution_count": null,
   "metadata": {},
   "outputs": [],
   "source": []
  }
 ],
 "metadata": {
  "kernelspec": {
   "display_name": "prot-gpt",
   "language": "python",
   "name": "python3"
  },
  "language_info": {
   "codemirror_mode": {
    "name": "ipython",
    "version": 3
   },
   "file_extension": ".py",
   "mimetype": "text/x-python",
   "name": "python",
   "nbconvert_exporter": "python",
   "pygments_lexer": "ipython3",
   "version": "3.10.9"
  },
  "orig_nbformat": 4,
  "vscode": {
   "interpreter": {
    "hash": "ce1b89515fef3d4cfef6e9104e9edf9e02f437173acd0f1472bac3c815597244"
   }
  }
 },
 "nbformat": 4,
 "nbformat_minor": 2
}
